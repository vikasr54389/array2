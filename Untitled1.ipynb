{
 "cells": [
  {
   "cell_type": "code",
   "execution_count": 4,
   "id": "0aadc07e",
   "metadata": {},
   "outputs": [],
   "source": [
    "class Solution:\n",
    "    def missingNumber(self, nums):\n",
    "        numSet = set(nums)\n",
    " \n",
    "        expectedNumCount = len(nums) + 1\n",
    "        for number in range(expectedNumCount):\n",
    "            if number not in numSet:\n",
    "                return number\n",
    " \n",
    "        return -1"
   ]
  },
  {
   "cell_type": "code",
   "execution_count": 3,
   "id": "3d92ebd8",
   "metadata": {},
   "outputs": [],
   "source": [
    "class Solution:\n",
    "    def merge(self, intervals):\n",
    "        intervals.sort(key=lambda x: x[0])\n",
    "        merged = []\n",
    "        for interval in intervals:\n",
    "            if not merged or merged[-1][1] < interval[0]:\n",
    "                merged.append(interval)\n",
    "            else:\n",
    "                merged[-1][1] = max(merged[-1][1], interval[1])\n",
    "        return merged"
   ]
  },
  {
   "cell_type": "code",
   "execution_count": 11,
   "id": "d1d06b48",
   "metadata": {},
   "outputs": [
    {
     "ename": "IndentationError",
     "evalue": "unindent does not match any outer indentation level (<tokenize>, line 29)",
     "output_type": "error",
     "traceback": [
      "\u001b[1;36m  File \u001b[1;32m<tokenize>:29\u001b[1;36m\u001b[0m\n\u001b[1;33m    p += 1\u001b[0m\n\u001b[1;37m    ^\u001b[0m\n\u001b[1;31mIndentationError\u001b[0m\u001b[1;31m:\u001b[0m unindent does not match any outer indentation level\n"
     ]
    }
   ],
   "source": [
    "class Solution:\n",
    "    def merge(self, nums1, m, nums2, n):\n",
    "        nums1Copy = nums1[:m]\n",
    "        p1, p2 = 0, 0\n",
    "        p = 0\n",
    " \n",
    "        while p < m + n:\n",
    "            if p2 >= n or (p1 < m and nums1Copy[p1] < nums2[p2]):\n",
    "                nums1[p] = nums1Copy[p1]\n",
    "                p1 += 1\n",
    "            else:\n",
    "                nums1[p] = nums2[p2]def main():\n",
    "    a = 60\n",
    "    b = 70\n",
    "    size = abs(b - a) + 1\n",
    "    array = [0] * size\n",
    " \n",
    "    for i in range(a, b + 1):\n",
    "        if i % 2 == 0 or i % 5 == 0:\n",
    "            array[i - a] = 1\n",
    " \n",
    "    for i in range(a, b + 1):\n",
    "        if array[i - a] == 1:\n",
    "            print(i, end=' ')\n",
    " \n",
    "if __name__ == '__main__':\n",
    "    main()\n",
    "                p2 += 1\n",
    "            p += 1\n",
    "            "
   ]
  },
  {
   "cell_type": "code",
   "execution_count": 13,
   "id": "b8e27318",
   "metadata": {},
   "outputs": [
    {
     "name": "stdout",
     "output_type": "stream",
     "text": [
      "Count of minimum operations is 1\n"
     ]
    }
   ],
   "source": [
    "def findMinOps(arr, n):\n",
    "    ans = 0  # Initialize result\n",
    " \n",
    "    # Start from two corners\n",
    "    i, j = 0, n - 1\n",
    "    while i <= j:\n",
    "        # If corner elements are the same,\n",
    "        # problem reduces arr[i+1..j-1]\n",
    "        if arr[i] == arr[j]:\n",
    "            i += 1\n",
    "            j -= 1\n",
    "        # If the left element is greater, then\n",
    "        # we merge the right two elements\n",
    "        elif arr[i] > arr[j]:\n",
    "            # Need to merge from the tail.\n",
    "            j -= 1\n",
    "            arr[j] += arr[j + 1]\n",
    "            ans += 1\n",
    "        # Else we merge the left two elements\n",
    "        else:\n",
    "            i += 1\n",
    "            arr[i] += arr[i - 1]\n",
    "            ans += 1\n",
    " \n",
    "    return ans\n",
    " \n",
    "# Driver method to test the above function\n",
    "arr = [1, 4, 5, 9, 1]\n",
    "print(\"Count of minimum operations is\", findMinOps(arr, len(arr)))"
   ]
  },
  {
   "cell_type": "code",
   "execution_count": 16,
   "id": "fe801001",
   "metadata": {},
   "outputs": [],
   "source": [
    "class Solution:\n",
    "    def findDuplicate(self, nums):\n",
    "        seen = set()\n",
    "        for num in nums:\n",
    "            if num in seen:\n",
    "                return num\n",
    "            seen.add(num)\n",
    "        return -1"
   ]
  },
  {
   "cell_type": "code",
   "execution_count": null,
   "id": "80902a3c",
   "metadata": {},
   "outputs": [],
   "source": []
  }
 ],
 "metadata": {
  "kernelspec": {
   "display_name": "Python 3 (ipykernel)",
   "language": "python",
   "name": "python3"
  },
  "language_info": {
   "codemirror_mode": {
    "name": "ipython",
    "version": 3
   },
   "file_extension": ".py",
   "mimetype": "text/x-python",
   "name": "python",
   "nbconvert_exporter": "python",
   "pygments_lexer": "ipython3",
   "version": "3.10.9"
  }
 },
 "nbformat": 4,
 "nbformat_minor": 5
}
